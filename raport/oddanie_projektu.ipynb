{
 "cells": [
  {
   "cell_type": "markdown",
   "metadata": {},
   "source": [
    "# TECHNIKI PROGRAMOWANIA - projekt 3\n",
    "### Krzysztof Chojka 203183\n",
    "### Daniel Chrzanowski 203381\n",
    "\n",
    "[Strona główna](../README.md)\n",
    "\n",
    "\n",
    "Wykorzystane biblioteki:\n",
    "- matplotplusplus (c++)\n",
    "- soundfile (python)"
   ]
  },
  {
   "cell_type": "markdown",
   "metadata": {},
   "source": [
    "# Wizualizacja wykresów 1D\n",
    "Przykład obrazujący zaimplementowaną funkcjonalnośc rysowania wykresów 1 wymiarowych oraz generatora."
   ]
  },
  {
   "cell_type": "code",
   "execution_count": null,
   "metadata": {},
   "outputs": [],
   "source": [
    "import signal_analyzer as sa\n",
    "import numpy as np\n",
    "\n",
    "x = np.linspace(0, 10 * np.pi, 1000)\n",
    "y = np.sin(x)\n",
    "\n",
    "\n",
    "N = len(y)\n",
    "#czas w sekudnach dla osi poziomej\n",
    "x = [n / 1000 for n in range(N)]\n",
    "sa.showSimpleSignal(x, y)\n",
    "\n",
    "\n",
    "y = sa.generate_signal(sa.SignalType.Sin, 5, 1000, 1)\n",
    "N = len(y)\n",
    "#czas w sekudnach dla osi poziomej\n",
    "x = [n / 1000 for n in range(N)]\n",
    "sa.showSimpleSignal(x, y)"
   ]
  },
  {
   "cell_type": "markdown",
   "metadata": {},
   "source": [
    "![Sine plot](imgs/image1.png)\n",
    "![Sine plot](imgs/image1.5.png)"
   ]
  },
  {
   "cell_type": "markdown",
   "metadata": {},
   "source": [
    "# DFT\n",
    "W celu sprawdzenia poprawności implementacji DFT wykorzystamy kilka przykładowych przebiegów:\n",
    "- sin(f*t) i sin(10*f*t)\n",
    "- ..."
   ]
  },
  {
   "cell_type": "markdown",
   "metadata": {},
   "source": [
    "## sin(ft)"
   ]
  },
  {
   "cell_type": "code",
   "execution_count": null,
   "metadata": {},
   "outputs": [],
   "source": [
    "f = 10\n",
    "N = 1000\n",
    "t = np.linspace(0, 2 * np.pi, N)\n",
    "\n",
    "x = np.sin(f * t)\n",
    "X = np.abs(np.fft.rfft(x)) ** 2\n",
    "\n",
    "sa.showSimpleSignal(t, x)\n",
    "sa.showSimpleSignal(np.arange(N), X)\n",
    "sa.DFT(x, 1000, True)"
   ]
  },
  {
   "cell_type": "markdown",
   "metadata": {},
   "source": [
    "![sin ft](imgs/image2.png)\n",
    "![sin_ft_fft](imgs/image3.png)\n",
    "![sin_ft_fft](imgs/image4.png)"
   ]
  },
  {
   "cell_type": "markdown",
   "metadata": {},
   "source": [
    "## sin(10 * ft)"
   ]
  },
  {
   "cell_type": "code",
   "execution_count": null,
   "metadata": {},
   "outputs": [],
   "source": [
    "x = np.sin(10 * f * t)\n",
    "X = np.abs(np.fft.rfft(x)) ** 2\n",
    "\n",
    "sa.showSimpleSignal(t, x)\n",
    "sa.showSimpleSignal(np.arange(N), X)\n",
    "sa.DFT(x, 1000, True)"
   ]
  },
  {
   "cell_type": "markdown",
   "metadata": {},
   "source": [
    "![sin ft](imgs/image5.png)\n",
    "![sin ft](imgs/image6.png)\n",
    "![sin ft](imgs/image7.png)"
   ]
  },
  {
   "cell_type": "code",
   "execution_count": null,
   "metadata": {},
   "outputs": [],
   "source": []
  }
 ],
 "metadata": {
  "kernelspec": {
   "display_name": ".venv",
   "language": "python",
   "name": "python3"
  },
  "language_info": {
   "codemirror_mode": {
    "name": "ipython",
    "version": 3
   },
   "file_extension": ".py",
   "mimetype": "text/x-python",
   "name": "python",
   "nbconvert_exporter": "python",
   "pygments_lexer": "ipython3",
   "version": "3.12.8"
  }
 },
 "nbformat": 4,
 "nbformat_minor": 2
}

